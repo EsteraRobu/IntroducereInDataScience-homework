{
 "cells": [
  {
   "cell_type": "code",
   "execution_count": 16,
   "metadata": {},
   "outputs": [
    {
     "name": "stdout",
     "output_type": "stream",
     "text": [
      "{(2, 0), (1, 0), (0, 0), (2, 2)}\n"
     ]
    }
   ],
   "source": [
    "# exercise 1\n",
    "import numpy as np\n",
    "def find_the_postion(element, matrix):\n",
    "    print(set(zip(* np.where(matrix==element))))\n",
    "    \n",
    "matrix = np.array([[1,2,3],[1,5,6],[1,8,1]])\n",
    "find_the_postion(1,matrix)\n"
   ]
  },
  {
   "cell_type": "code",
   "execution_count": null,
   "metadata": {},
   "outputs": [],
   "source": [
    "#exercise3"
   ]
  },
  {
   "cell_type": "code",
   "execution_count": null,
   "metadata": {},
   "outputs": [],
   "source": []
  }
 ],
 "metadata": {
  "kernelspec": {
   "display_name": "Python 3",
   "language": "python",
   "name": "python3"
  },
  "language_info": {
   "codemirror_mode": {
    "name": "ipython",
    "version": 3
   },
   "file_extension": ".py",
   "mimetype": "text/x-python",
   "name": "python",
   "nbconvert_exporter": "python",
   "pygments_lexer": "ipython3",
   "version": "3.7.2"
  }
 },
 "nbformat": 4,
 "nbformat_minor": 2
}
