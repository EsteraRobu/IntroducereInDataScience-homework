{
 "cells": [
  {
   "cell_type": "code",
   "execution_count": 2,
   "metadata": {
    "scrolled": true
   },
   "outputs": [
    {
     "name": "stdout",
     "output_type": "stream",
     "text": [
      "{(2, 0), (1, 0), (0, 0), (2, 2)}\n"
     ]
    }
   ],
   "source": [
    "# exercise 1\n",
    "import numpy as np\n",
    "\n",
    "def find_the_postion(element, matrix):\n",
    "    print(set(zip(* np.where(matrix==element))))\n",
    "    \n",
    "matrix = np.array([[1,2,3],[1,5,6],[1,8,1]])\n",
    "find_the_postion(1,matrix)\n"
   ]
  },
  {
   "cell_type": "code",
   "execution_count": 3,
   "metadata": {},
   "outputs": [
    {
     "name": "stdout",
     "output_type": "stream",
     "text": [
      "[24 60  1]\n"
     ]
    }
   ],
   "source": [
    "\n",
    "#ex 2\n",
    "def pro_lin_mat():\n",
    "    mat= np.array([[2,3,4],[2,5,6],[1,1,1]])\n",
    "    return  np.prod(mat,axis=1)\n",
    "\n",
    "print (pro_lin_mat())"
   ]
  },
  {
   "cell_type": "code",
   "execution_count": 4,
   "metadata": {},
   "outputs": [
    {
     "name": "stdout",
     "output_type": "stream",
     "text": [
      "[[ True  True  True]\n",
      " [ True False  True]\n",
      " [ True  True  True]]\n"
     ]
    }
   ],
   "source": [
    "#ex 3 \n",
    "\n",
    "def matrix_compare():\n",
    "    a= np.array([[2,3,4],[2,3,6],[5,5,5]])\n",
    "    b=np.array([[2,3,4],[1,70,1],[2,3,4]])\n",
    "    print(a>=b)\n",
    "\n",
    "matrix_compare()\n",
    "    "
   ]
  },
  {
   "cell_type": "code",
   "execution_count": 5,
   "metadata": {},
   "outputs": [
    {
     "name": "stdout",
     "output_type": "stream",
     "text": [
      "(array([0, 2, 3, 7], dtype=int64),)\n"
     ]
    }
   ],
   "source": [
    "#ex 4\n",
    "\n",
    "def val_maxima():\n",
    "    v=np.array([20,3,20,20,1,3,4,20])\n",
    "    print(np.where(v==max(v)))\n",
    "val_maxima()"
   ]
  },
  {
   "cell_type": "code",
   "execution_count": 6,
   "metadata": {},
   "outputs": [
    {
     "name": "stdout",
     "output_type": "stream",
     "text": [
      "[160 156 152]\n"
     ]
    }
   ],
   "source": [
    "#ex5\n",
    "\"\"\"\n",
    "\n",
    "\"\"\"\n",
    "def inmultire():\n",
    "    v=np.array([230, 10, 284, 39, 76])\n",
    "    while min(v)<100:\n",
    "        v=np.where(v<100,v*2,v)\n",
    "    print(v[np.where((v>=100) &(v<=200))])\n",
    "inmultire()"
   ]
  },
  {
   "cell_type": "code",
   "execution_count": 7,
   "metadata": {},
   "outputs": [
    {
     "name": "stdout",
     "output_type": "stream",
     "text": [
      "[  4   7   9 100 300 230   3]\n"
     ]
    }
   ],
   "source": [
    "#ex6 \n",
    "\"\"\"\n",
    "where are sintaxa np.where(conditie,rezultat pentru contidie ==Treu, rezultate pentru conditie==False)\n",
    "si asta rezolva cam toata problema \n",
    "\"\"\"\n",
    "def comparare_vector(a,b):\n",
    "    return np.where(a>b,a,b)\n",
    "\n",
    "mat1=np.array([3, 7, 9, 13, -10, 200, 3])\n",
    "mat2=np.array([4, 5, -9, 100, 300, 230, 1])\n",
    "print(comparare_vector(mat1,mat2))"
   ]
  },
  {
   "cell_type": "code",
   "execution_count": 8,
   "metadata": {},
   "outputs": [
    {
     "name": "stdout",
     "output_type": "stream",
     "text": [
      "30.0\n",
      "Wall time: 0 ns\n",
      "30.0\n",
      "Wall time: 0 ns\n",
      "6\n",
      "Wall time: 0 ns\n"
     ]
    }
   ],
   "source": [
    "#ex7 in process\n",
    "''' se calculeaza suma elementelor non-NaN intr-un 2d numpy array, in 3 feluri\n",
    "si se afiseaza timpul necesar pentru executia metodelor cu ajutorul comenzii: %time'''\n",
    "import math \n",
    "from math import nan\n",
    "\n",
    "def sumaB(a):\n",
    "     return np.nansum(a)\n",
    "\n",
    "\n",
    "def sumaA(a):\n",
    "    b=a.copy()\n",
    "    b=np.where(np.isnan(b),0,b)\n",
    "    return np.sum(b)\n",
    "\n",
    "def sumaC(a):\n",
    "    suma=0\n",
    "    return  np.sum(np.where(np.isnan(a)))\n",
    "    \n",
    "mat=np.array([[1,nan,3],[nan,5,6],[7,8,nan]])\n",
    "\n",
    "%time print(sumaB(mat))\n",
    "%time print(sumaA(mat))\n",
    "%time print(sumaC(mat))"
   ]
  },
  {
   "cell_type": "code",
   "execution_count": 24,
   "metadata": {},
   "outputs": [
    {
     "name": "stdout",
     "output_type": "stream",
     "text": [
      "((4, 0), (42, 3), (54, 1), (62, 2), (78, 1), (82, 1), (92, 0), (95, 0), (95, 3), (129, 2))\n"
     ]
    }
   ],
   "source": [
    "#ex8 not done yet \n",
    "''' se incarca setul de date iris\n",
    " se aleg aleator 10 pozitii in matrice, omitandu-se ultima coloana care se , seteaza  valorile ultime coloane  pe NaN.\n",
    "functie care primese o matrice si returneaza\n",
    "un tuplu cu indicii de linie respectiv de coloana in care se gasesc valori NaN'''\n",
    "def nan_index(mat : np.ndarray) -> tuple:\n",
    "    index= tuple(zip(*np.where(np.isnan(mat))))\n",
    "    return index\n",
    "    \n",
    "data = np.genfromtxt(\"iris.txt\",delimiter=\",\", usecols=(0, 1, 2, 3))\n",
    "mat_rows = np.random.randint(0, data.shape[0], 10)\n",
    "mat_columns = np.random.randint(0, data.shape[1], 10)\n",
    "data[mat_rows, mat_columns] = np.nan\n",
    "print(nan_index(data))\n"
   ]
  },
  {
   "cell_type": "code",
   "execution_count": 19,
   "metadata": {},
   "outputs": [
    {
     "data": {
      "text/plain": [
       "{(0, 0), (0, 1), (0, 2), (2, 0), (2, 1), (2, 2)}"
      ]
     },
     "execution_count": 19,
     "metadata": {},
     "output_type": "execute_result"
    }
   ],
   "source": [
    "# exe 9\n",
    "\"\"\"\n",
    "zip pentru a crea tuple cu indexul linie coloana a elemetelor ce respecta conditia \n",
    "\"\"\"\n",
    "def functie_9(mat,lmin,lmax):\n",
    "    return set(zip(*np.where((mat >=lmin)&(mat<=lmax))))\n",
    "    \n",
    "mat =np.array([[1,2,3],[23,45,63],[7,8,9]])\n",
    "functie_9(mat,1,10)"
   ]
  },
  {
   "cell_type": "code",
   "execution_count": 230,
   "metadata": {},
   "outputs": [
    {
     "name": "stdout",
     "output_type": "stream",
     "text": [
      "{(8, 30), (4, 34), (3, 45), (2, 34)}\n"
     ]
    }
   ],
   "source": [
    "#exe 10\n",
    "\"\"\"\n",
    "folosim zip pentru a face un tuple cu indexul si elemetul cautat\n",
    "iar in urma lui arg sort se creaza o lista de indexsi sortata\n",
    "\"\"\"\n",
    "def functie_10(vect,k):\n",
    "    return set(zip(np.argsort(vect)[-k:],vect[np.argsort(vect)[-k:]]))\n",
    "               \n",
    "vect=np.array([1,2,34,45,34,9,10,24,30])\n",
    "print(functie_10(vect,4))\n"
   ]
  },
  {
   "cell_type": "code",
   "execution_count": null,
   "metadata": {},
   "outputs": [],
   "source": []
  }
 ],
 "metadata": {
  "kernelspec": {
   "display_name": "Python 3",
   "language": "python",
   "name": "python3"
  },
  "language_info": {
   "codemirror_mode": {
    "name": "ipython",
    "version": 3
   },
   "file_extension": ".py",
   "mimetype": "text/x-python",
   "name": "python",
   "nbconvert_exporter": "python",
   "pygments_lexer": "ipython3",
   "version": "3.7.2"
  }
 },
 "nbformat": 4,
 "nbformat_minor": 2
}
