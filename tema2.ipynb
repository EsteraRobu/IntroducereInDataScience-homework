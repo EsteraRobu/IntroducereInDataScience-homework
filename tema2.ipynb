{
 "cells": [
  {
   "cell_type": "code",
   "execution_count": 3,
   "metadata": {
    "scrolled": true
   },
   "outputs": [
    {
     "name": "stdout",
     "output_type": "stream",
     "text": [
      "{(2, 0), (1, 0), (0, 0), (2, 2)}\n"
     ]
    }
   ],
   "source": [
    "# exercise 1\n",
    "import numpy as np\n",
    "\n",
    "def find_the_postion(element, matrix):\n",
    "    print(set(zip(* np.where(matrix==element))))\n",
    "    \n",
    "matrix = np.array([[1,2,3],[1,5,6],[1,8,1]])\n",
    "find_the_postion(1,matrix)\n"
   ]
  },
  {
   "cell_type": "code",
   "execution_count": 85,
   "metadata": {},
   "outputs": [
    {
     "name": "stdout",
     "output_type": "stream",
     "text": [
      "[24 60  1]\n"
     ]
    }
   ],
   "source": [
    "\n",
    "#ex 2\n",
    "def pro_lin_mat():\n",
    "    mat= np.array([[2,3,4],[2,5,6],[1,1,1]])\n",
    "    return  np.prod(mat,axis=1)\n",
    "\n",
    "print (pro_lin_mat())"
   ]
  },
  {
   "cell_type": "code",
   "execution_count": 21,
   "metadata": {},
   "outputs": [
    {
     "name": "stdout",
     "output_type": "stream",
     "text": [
      "[[ True  True  True]\n",
      " [ True False  True]\n",
      " [ True  True  True]]\n"
     ]
    }
   ],
   "source": [
    "#ex 3 \n",
    "\n",
    "def matrix_compare():\n",
    "    a= np.array([[2,3,4],[2,3,6],[5,5,5]])\n",
    "    b=np.array([[2,3,4],[1,70,1],[2,3,4]])\n",
    "    print(a>=b)\n",
    "\n",
    "matrix_compare()\n",
    "    "
   ]
  },
  {
   "cell_type": "code",
   "execution_count": 38,
   "metadata": {},
   "outputs": [
    {
     "name": "stdout",
     "output_type": "stream",
     "text": [
      "(array([0, 2, 3, 7], dtype=int64),)\n"
     ]
    }
   ],
   "source": [
    "#ex 4\n",
    "\n",
    "def val_maxima():\n",
    "    v=np.array([20,3,20,20,1,3,4,20])\n",
    "    print(np.where(v==max(v)))\n",
    "val_maxima()"
   ]
  },
  {
   "cell_type": "code",
   "execution_count": 195,
   "metadata": {},
   "outputs": [
    {
     "name": "stdout",
     "output_type": "stream",
     "text": [
      "[160 156 152]\n"
     ]
    }
   ],
   "source": [
    "#ex5\n",
    "\"\"\"\n",
    "\n",
    "\"\"\"\n",
    "def inmultire():\n",
    "    v=np.array([230, 10, 284, 39, 76])\n",
    "    while min(v)<100:\n",
    "        v=np.where(v<100,v*2,v)\n",
    "    print(v[np.where((v>=100) &(v<=200))])\n",
    "inmultire()"
   ]
  },
  {
   "cell_type": "code",
   "execution_count": 77,
   "metadata": {},
   "outputs": [
    {
     "name": "stdout",
     "output_type": "stream",
     "text": [
      "[  4   7   9 100 300 230   3]\n"
     ]
    }
   ],
   "source": [
    "#ex6 \n",
    "\"\"\"\n",
    "where are sintaxa np.where(conditie,rezultat pentru contidie ==Treu, rezultate pentru conditie==False)\n",
    "si asta rezolva cam toata problema \n",
    "\"\"\"\n",
    "def comparare_vector(a,b):\n",
    "    return np.where(a>b,a,b)\n",
    "\n",
    "mat1=np.array([3, 7, 9, 13, -10, 200, 3])\n",
    "mat2=np.array([4, 5, -9, 100, 300, 230, 1])\n",
    "print(comparare_vector(mat1,mat2))"
   ]
  },
  {
   "cell_type": "code",
   "execution_count": 109,
   "metadata": {},
   "outputs": [
    {
     "name": "stdout",
     "output_type": "stream",
     "text": [
      "30.0\n",
      "Wall time: 0 ns\n",
      "30.0\n",
      "Wall time: 0 ns\n",
      "6\n",
      "Wall time: 197 ms\n"
     ]
    }
   ],
   "source": [
    "#ex7 not done yet\n",
    "import math \n",
    "from math import nan\n",
    "\n",
    "def sumaB(a):\n",
    "     return np.nansum(a)\n",
    "\n",
    "\n",
    "def sumaA(a):\n",
    "    b=a.copy()\n",
    "    b=np.where(np.isnan(b),0,b)\n",
    "    return np.sum(b)\n",
    "\n",
    "def sumaC(a):\n",
    "    suma=0\n",
    "    return  np.sum(np.where(np.isnan(a)))\n",
    "    \n",
    "mat=np.array([[1,nan,3],[nan,5,6],[7,8,nan]])\n",
    "\n",
    "%time print(sumaB(mat))\n",
    "%time print(sumaA(mat))\n",
    "%time print(sumaC(mat))"
   ]
  },
  {
   "cell_type": "code",
   "execution_count": 183,
   "metadata": {},
   "outputs": [
    {
     "name": "stdout",
     "output_type": "stream",
     "text": [
      "[[5.1 3.5 1.4 0.2 nan]\n",
      " [4.9 3.  1.4 0.2 nan]\n",
      " [4.7 3.2 1.3 0.2 nan]\n",
      " [4.6 3.1 1.5 0.2 nan]\n",
      " [5.  3.6 1.4 0.2 nan]\n",
      " [5.4 3.9 1.7 0.4 nan]\n",
      " [4.6 3.4 1.4 0.3 nan]\n",
      " [5.  3.4 1.5 0.2 nan]\n",
      " [4.4 2.9 1.4 0.2 nan]\n",
      " [4.9 3.1 1.5 0.1 nan]\n",
      " [5.4 3.7 1.5 0.2 nan]\n",
      " [4.8 3.4 1.6 0.2 nan]\n",
      " [4.8 3.  1.4 0.1 nan]\n",
      " [4.3 3.  1.1 0.1 nan]\n",
      " [5.8 4.  1.2 0.2 nan]\n",
      " [5.7 4.4 1.5 0.4 nan]\n",
      " [5.4 3.9 1.3 0.4 nan]\n",
      " [5.1 3.5 1.4 0.3 nan]\n",
      " [5.7 3.8 1.7 0.3 nan]\n",
      " [5.1 3.8 1.5 0.3 nan]\n",
      " [5.4 3.4 1.7 0.2 nan]\n",
      " [5.1 3.7 1.5 0.4 nan]\n",
      " [4.6 3.6 1.  0.2 nan]\n",
      " [5.1 3.3 1.7 0.5 nan]\n",
      " [4.8 3.4 1.9 0.2 nan]\n",
      " [5.  3.  1.6 0.2 nan]\n",
      " [5.  3.4 1.6 0.4 nan]\n",
      " [5.2 3.5 1.5 0.2 nan]\n",
      " [5.2 3.4 1.4 0.2 nan]\n",
      " [4.7 3.2 1.6 0.2 nan]\n",
      " [4.8 3.1 1.6 0.2 nan]\n",
      " [5.4 3.4 1.5 0.4 nan]\n",
      " [5.2 4.1 1.5 0.1 nan]\n",
      " [5.5 4.2 1.4 0.2 nan]\n",
      " [4.9 3.1 1.5 0.1 nan]\n",
      " [5.  3.2 1.2 0.2 nan]\n",
      " [5.5 3.5 1.3 0.2 nan]\n",
      " [4.9 3.1 1.5 0.1 nan]\n",
      " [4.4 3.  1.3 0.2 nan]\n",
      " [5.1 3.4 1.5 0.2 nan]\n",
      " [5.  3.5 1.3 0.3 nan]\n",
      " [4.5 2.3 1.3 0.3 nan]\n",
      " [4.4 3.2 1.3 0.2 nan]\n",
      " [5.  3.5 1.6 0.6 nan]\n",
      " [5.1 3.8 1.9 0.4 nan]\n",
      " [4.8 3.  1.4 0.3 nan]\n",
      " [5.1 3.8 1.6 0.2 nan]\n",
      " [4.6 3.2 1.4 0.2 nan]\n",
      " [5.3 3.7 1.5 0.2 nan]\n",
      " [5.  3.3 1.4 0.2 nan]\n",
      " [7.  3.2 4.7 1.4 nan]\n",
      " [6.4 3.2 4.5 1.5 nan]\n",
      " [6.9 3.1 4.9 1.5 nan]\n",
      " [5.5 2.3 4.  1.3 nan]\n",
      " [6.5 2.8 4.6 1.5 nan]\n",
      " [5.7 2.8 4.5 1.3 nan]\n",
      " [6.3 3.3 4.7 1.6 nan]\n",
      " [4.9 2.4 3.3 1.  nan]\n",
      " [6.6 2.9 4.6 1.3 nan]\n",
      " [5.2 2.7 3.9 1.4 nan]\n",
      " [5.  2.  3.5 1.  nan]\n",
      " [5.9 3.  4.2 1.5 nan]\n",
      " [6.  2.2 4.  1.  nan]\n",
      " [6.1 2.9 4.7 1.4 nan]\n",
      " [5.6 2.9 3.6 1.3 nan]\n",
      " [6.7 3.1 4.4 1.4 nan]\n",
      " [5.6 3.  4.5 1.5 nan]\n",
      " [5.8 2.7 4.1 1.  nan]\n",
      " [6.2 2.2 4.5 1.5 nan]\n",
      " [5.6 2.5 3.9 1.1 nan]\n",
      " [5.9 3.2 4.8 1.8 nan]\n",
      " [6.1 2.8 4.  1.3 nan]\n",
      " [6.3 2.5 4.9 1.5 nan]\n",
      " [6.1 2.8 4.7 1.2 nan]\n",
      " [6.4 2.9 4.3 1.3 nan]\n",
      " [6.6 3.  4.4 1.4 nan]\n",
      " [6.8 2.8 4.8 1.4 nan]\n",
      " [6.7 3.  5.  1.7 nan]\n",
      " [6.  2.9 4.5 1.5 nan]\n",
      " [5.7 2.6 3.5 1.  nan]\n",
      " [5.5 2.4 3.8 1.1 nan]\n",
      " [5.5 2.4 3.7 1.  nan]\n",
      " [5.8 2.7 3.9 1.2 nan]\n",
      " [6.  2.7 5.1 1.6 nan]\n",
      " [5.4 3.  4.5 1.5 nan]\n",
      " [6.  3.4 4.5 1.6 nan]\n",
      " [6.7 3.1 4.7 1.5 nan]\n",
      " [6.3 2.3 4.4 1.3 nan]\n",
      " [5.6 3.  4.1 1.3 nan]\n",
      " [5.5 2.5 4.  1.3 nan]\n",
      " [5.5 2.6 4.4 1.2 nan]\n",
      " [6.1 3.  4.6 1.4 nan]\n",
      " [5.8 2.6 4.  1.2 nan]\n",
      " [5.  2.3 3.3 1.  nan]\n",
      " [5.6 2.7 4.2 1.3 nan]\n",
      " [5.7 3.  4.2 1.2 nan]\n",
      " [5.7 2.9 4.2 1.3 nan]\n",
      " [6.2 2.9 4.3 1.3 nan]\n",
      " [5.1 2.5 3.  1.1 nan]\n",
      " [5.7 2.8 4.1 1.3 nan]\n",
      " [6.3 3.3 6.  2.5 nan]\n",
      " [5.8 2.7 5.1 1.9 nan]\n",
      " [7.1 3.  5.9 2.1 nan]\n",
      " [6.3 2.9 5.6 1.8 nan]\n",
      " [6.5 3.  5.8 2.2 nan]\n",
      " [7.6 3.  6.6 2.1 nan]\n",
      " [4.9 2.5 4.5 1.7 nan]\n",
      " [7.3 2.9 6.3 1.8 nan]\n",
      " [6.7 2.5 5.8 1.8 nan]\n",
      " [7.2 3.6 6.1 2.5 nan]\n",
      " [6.5 3.2 5.1 2.  nan]\n",
      " [6.4 2.7 5.3 1.9 nan]\n",
      " [6.8 3.  5.5 2.1 nan]\n",
      " [5.7 2.5 5.  2.  nan]\n",
      " [5.8 2.8 5.1 2.4 nan]\n",
      " [6.4 3.2 5.3 2.3 nan]\n",
      " [6.5 3.  5.5 1.8 nan]\n",
      " [7.7 3.8 6.7 2.2 nan]\n",
      " [7.7 2.6 6.9 2.3 nan]\n",
      " [6.  2.2 5.  1.5 nan]\n",
      " [6.9 3.2 5.7 2.3 nan]\n",
      " [5.6 2.8 4.9 2.  nan]\n",
      " [7.7 2.8 6.7 2.  nan]\n",
      " [6.3 2.7 4.9 1.8 nan]\n",
      " [6.7 3.3 5.7 2.1 nan]\n",
      " [7.2 3.2 6.  1.8 nan]\n",
      " [6.2 2.8 4.8 1.8 nan]\n",
      " [6.1 3.  4.9 1.8 nan]\n",
      " [6.4 2.8 5.6 2.1 nan]\n",
      " [7.2 3.  5.8 1.6 nan]\n",
      " [7.4 2.8 6.1 1.9 nan]\n",
      " [7.9 3.8 6.4 2.  nan]\n",
      " [6.4 2.8 5.6 2.2 nan]\n",
      " [6.3 2.8 5.1 1.5 nan]\n",
      " [6.1 2.6 5.6 1.4 nan]\n",
      " [7.7 3.  6.1 2.3 nan]\n",
      " [6.3 3.4 5.6 2.4 nan]\n",
      " [6.4 3.1 5.5 1.8 nan]\n",
      " [6.  3.  4.8 1.8 nan]\n",
      " [6.9 3.1 5.4 2.1 nan]\n",
      " [6.7 3.1 5.6 2.4 nan]\n",
      " [6.9 3.1 5.1 2.3 nan]\n",
      " [5.8 2.7 5.1 1.9 nan]\n",
      " [6.8 3.2 5.9 2.3 nan]\n",
      " [6.7 3.3 5.7 2.5 nan]\n",
      " [6.7 3.  5.2 2.3 nan]\n",
      " [6.3 2.5 5.  1.9 nan]\n",
      " [6.5 3.  5.2 2.  nan]\n",
      " [6.2 3.4 5.4 2.3 nan]\n",
      " [5.9 3.  5.1 1.8 nan]]\n",
      "set()\n"
     ]
    }
   ],
   "source": [
    "#ex8 not done yet \n",
    "def nan_index(mat):\n",
    "    print(set(zip(*np.where(np.isnan(mat[:,0:4])))))\n",
    "    \n",
    "data = np.genfromtxt(\"iris.txt\",delimiter=\",\")\n",
    "data.itemset((4,4),nan)\n",
    "print(data)\n",
    "nan_index(data)"
   ]
  },
  {
   "cell_type": "code",
   "execution_count": 235,
   "metadata": {},
   "outputs": [
    {
     "data": {
      "text/plain": [
       "{(0, 0), (0, 1), (0, 2), (2, 0), (2, 1), (2, 2)}"
      ]
     },
     "execution_count": 235,
     "metadata": {},
     "output_type": "execute_result"
    }
   ],
   "source": [
    "# exe 9\n",
    "\"\"\"\n",
    "zip pentru a crea tuple cu indexul linie coloana a elemetelor ce respecta conditia \n",
    "\"\"\"\n",
    "def functie_9(mat,lmin,lmax):\n",
    "    return set(zip(*np.where((mat >=lmin)&(mat<=lmax))))\n",
    "    \n",
    "mat =np.array([[1,2,3],[23,45,63],[7,8,9]])\n",
    "functie_9(mat,1,10)"
   ]
  },
  {
   "cell_type": "code",
   "execution_count": 230,
   "metadata": {},
   "outputs": [
    {
     "name": "stdout",
     "output_type": "stream",
     "text": [
      "{(8, 30), (4, 34), (3, 45), (2, 34)}\n"
     ]
    }
   ],
   "source": [
    "#exe 10\n",
    "\"\"\"\n",
    "folosim zip pentru a face un tuple cu indexul si elemetul cautat\n",
    "iar in urma lui arg sort se creaza o lista de indexsi sortata\n",
    "\"\"\"\n",
    "def functie_10(vect,k):\n",
    "    return set(zip(np.argsort(vect)[-k:],vect[np.argsort(vect)[-k:]]))\n",
    "               \n",
    "vect=np.array([1,2,34,45,34,9,10,24,30])\n",
    "print(functie_10(vect,4))\n"
   ]
  },
  {
   "cell_type": "code",
   "execution_count": null,
   "metadata": {},
   "outputs": [],
   "source": []
  }
 ],
 "metadata": {
  "kernelspec": {
   "display_name": "Python 3",
   "language": "python",
   "name": "python3"
  },
  "language_info": {
   "codemirror_mode": {
    "name": "ipython",
    "version": 3
   },
   "file_extension": ".py",
   "mimetype": "text/x-python",
   "name": "python",
   "nbconvert_exporter": "python",
   "pygments_lexer": "ipython3",
   "version": "3.7.1"
  }
 },
 "nbformat": 4,
 "nbformat_minor": 2
}
