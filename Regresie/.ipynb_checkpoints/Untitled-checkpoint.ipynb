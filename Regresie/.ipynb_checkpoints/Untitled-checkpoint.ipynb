{
 "cells": [
  {
   "cell_type": "code",
   "execution_count": 237,
   "metadata": {},
   "outputs": [],
   "source": [
    "import numpy as np\n",
    "import pandas as pd\n",
    "from sklearn.ensemble import RandomForestRegressor\n",
    "from sklearn.neighbors import KNeighborsRegressor\n",
    "from sklearn.tree import DecisionTreeRegressor\n",
    "from sklearn.svm import SVR\n",
    "from sklearn.linear_model import LinearRegression, Ridge, Lasso\n",
    "from sklearn.preprocessing import MinMaxScaler\n",
    "from sklearn.model_selection import GridSearchCV , RandomizedSearchCV,train_test_split\n",
    "from sklearn import metrics\n",
    "from sklearn.model_selection import cross_validate\n",
    "import warnings\n",
    "warnings.simplefilter(action='ignore', category=FutureWarning)"
   ]
  },
  {
   "cell_type": "markdown",
   "metadata": {},
   "source": [
    "# Random Forest "
   ]
  },
  {
   "cell_type": "code",
   "execution_count": 228,
   "metadata": {},
   "outputs": [],
   "source": [
    "def r_forest(X,Y):\n",
    "    model=RandomForestRegressor()\n",
    "    paramz={'criterion':('mse','mae'),'max_features':('auto','sqrt','log2')}\n",
    "    \n",
    "    grid_search = GridSearchCV(estimator = model, param_grid=paramz, scoring=('neg_mean_squared_error')\n",
    "                               , cv=3, return_train_score=True, iid=False)\n",
    "    GS_result=cross_validate(grid_search,X,Y,\n",
    "                                cv=5,scoring=('neg_mean_squared_error'\n",
    "                                              ,'neg_mean_absolute_error'\n",
    "                                              ,'neg_median_absolute_error'),return_train_score=True)\n",
    "    random_search=RandomizedSearchCV(estimator=model,param_distributions=paramz ,scoring=('neg_mean_squared_error')\n",
    "                                ,cv=3,n_iter=5,return_train_score=True,iid=False)\n",
    "    RS_result = cross_validate(random_search, x, y, cv=5, scoring=('neg_mean_absolute_error', 'neg_mean_squared_error', \n",
    "                                                              'neg_median_absolute_error'), return_train_score=True)\n",
    "    return GS_result, RS_result"
   ]
  },
  {
   "cell_type": "markdown",
   "metadata": {},
   "source": [
    "# KNieghbors"
   ]
  },
  {
   "cell_type": "code",
   "execution_count": 227,
   "metadata": {},
   "outputs": [],
   "source": [
    "def kNeighbors(X,Y):\n",
    "    model=KNeighborsRegressor()\n",
    "    paramz={'n_neighbors':[5,10,15],'algorithm':('ball_tree','kd_tree','brute')}\n",
    "    \n",
    "    grid_search = GridSearchCV(estimator = model, param_grid=paramz, scoring=('neg_mean_squared_error')\n",
    "                               , cv=3, return_train_score=True, iid=False)\n",
    "    GS_result=cross_validate(grid_search,X,Y,\n",
    "                                cv=5,scoring=('neg_mean_squared_error'\n",
    "                                              ,'neg_mean_absolute_error'\n",
    "                                              ,'neg_median_absolute_error'),return_train_score=True)\n",
    "    random_search=RandomizedSearchCV(estimator=model,param_distributions=paramz ,scoring=('neg_mean_squared_error')\n",
    "                                ,cv=3,n_iter=5,return_train_score=True,iid=False)\n",
    "    RS_result = cross_validate(random_search, x, y, cv=5, scoring=('neg_mean_absolute_error', 'neg_mean_squared_error', \n",
    "                                                              'neg_median_absolute_error'), return_train_score=True)\n",
    "    return GS_result, RS_result"
   ]
  },
  {
   "cell_type": "markdown",
   "metadata": {},
   "source": [
    "# Linear Regressor"
   ]
  },
  {
   "cell_type": "code",
   "execution_count": 226,
   "metadata": {},
   "outputs": [],
   "source": [
    "def l_r(X,Y):\n",
    "    model = LinearRegression()\n",
    "    paramz = {'fit_intercept' : [True, False],'normalize' : [True, False], 'copy_X' : [True, False] }\n",
    "    \n",
    "    grid_search = GridSearchCV(estimator = model, param_grid=paramz, scoring=('neg_mean_squared_error')\n",
    "                               , cv=3, return_train_score=True, iid=False)\n",
    "    GS_result=cross_validate(grid_search,X,Y,\n",
    "                                cv=5,scoring=('neg_mean_squared_error'\n",
    "                                              ,'neg_mean_absolute_error'\n",
    "                                              ,'neg_median_absolute_error'),return_train_score=True)\n",
    "    random_search=RandomizedSearchCV(estimator=model,param_distributions=paramz ,scoring=('neg_mean_squared_error')\n",
    "                                ,cv=3,n_iter=5,return_train_score=True,iid=False)\n",
    "    RS_result = cross_validate(random_search, x, y, cv=5, scoring=('neg_mean_absolute_error', 'neg_mean_squared_error', \n",
    "                                                              'neg_median_absolute_error'), return_train_score=True)\n",
    "    return GS_result, RS_result"
   ]
  },
  {
   "cell_type": "markdown",
   "metadata": {},
   "source": [
    "# Suport Vector Regressor"
   ]
  },
  {
   "cell_type": "code",
   "execution_count": 239,
   "metadata": {},
   "outputs": [],
   "source": [
    "def svr(X,Y):\n",
    "    model= SVR()\n",
    "    paramz={'kernel':('linear', 'poly', 'rbf', 'sigmoid')}\n",
    "    \n",
    "    grid_search = GridSearchCV(estimator = model, param_grid=paramz, scoring=('neg_mean_squared_error')\n",
    "                               , cv=3, return_train_score=True, iid=False)\n",
    "    GS_result=cross_validate(grid_search,X,Y,\n",
    "                                cv=5,scoring=('neg_mean_squared_error'\n",
    "                                              ,'neg_mean_absolute_error'\n",
    "                                              ,'neg_median_absolute_error'),return_train_score=True)\n",
    "    random_search=RandomizedSearchCV(estimator=model,param_distributions=paramz ,scoring=('neg_mean_squared_error')\n",
    "                                ,cv=3,n_iter=5,return_train_score=True,iid=False)\n",
    "    RS_result = cross_validate(random_search, x, y, cv=5, scoring=('neg_mean_absolute_error', 'neg_mean_squared_error', \n",
    "                                                              'neg_median_absolute_error'), return_train_score=True)\n",
    "    return GS_result, RS_result"
   ]
  },
  {
   "cell_type": "markdown",
   "metadata": {},
   "source": [
    "# Decision Tree Regressor"
   ]
  },
  {
   "cell_type": "code",
   "execution_count": 247,
   "metadata": {},
   "outputs": [],
   "source": [
    "def dtr(X,Y):\n",
    "    model=DecisionTreeRegressor()\n",
    "    paramz={'min_samples_split':[2,3,4]}\n",
    "    \n",
    "    grid_search = GridSearchCV(estimator = model, param_grid=paramz, scoring=('neg_mean_squared_error')\n",
    "                               , cv=3, return_train_score=True, iid=False)\n",
    "    GS_result=cross_validate(grid_search,X,Y,\n",
    "                                cv=5,scoring=('neg_mean_squared_error'\n",
    "                                              ,'neg_mean_absolute_error'\n",
    "                                              ,'neg_median_absolute_error'),return_train_score=True)\n",
    "    random_search=RandomizedSearchCV(estimator=model,param_distributions=paramz ,scoring=('neg_mean_squared_error')\n",
    "                                ,cv=3,n_iter=5,return_train_score=True,iid=False)\n",
    "    RS_result = cross_validate(random_search, x, y, cv=5, scoring=('neg_mean_absolute_error', 'neg_mean_squared_error', \n",
    "                                                              'neg_median_absolute_error'), return_train_score=True)\n",
    "    return GS_result, RS_result\n",
    "    "
   ]
  },
  {
   "cell_type": "markdown",
   "metadata": {},
   "source": [
    "# Breast Cancer Dataframe"
   ]
  },
  {
   "cell_type": "code",
   "execution_count": 248,
   "metadata": {},
   "outputs": [
    {
     "name": "stderr",
     "output_type": "stream",
     "text": [
      "C:\\Anaconda3\\lib\\site-packages\\sklearn\\model_selection\\_search.py:271: UserWarning: The total space of parameters 4 is smaller than n_iter=5. Running 4 iterations. For exhaustive searches, use GridSearchCV.\n",
      "  % (grid_size, self.n_iter, grid_size), UserWarning)\n",
      "C:\\Anaconda3\\lib\\site-packages\\sklearn\\model_selection\\_search.py:271: UserWarning: The total space of parameters 4 is smaller than n_iter=5. Running 4 iterations. For exhaustive searches, use GridSearchCV.\n",
      "  % (grid_size, self.n_iter, grid_size), UserWarning)\n",
      "C:\\Anaconda3\\lib\\site-packages\\sklearn\\model_selection\\_search.py:271: UserWarning: The total space of parameters 4 is smaller than n_iter=5. Running 4 iterations. For exhaustive searches, use GridSearchCV.\n",
      "  % (grid_size, self.n_iter, grid_size), UserWarning)\n",
      "C:\\Anaconda3\\lib\\site-packages\\sklearn\\model_selection\\_search.py:271: UserWarning: The total space of parameters 4 is smaller than n_iter=5. Running 4 iterations. For exhaustive searches, use GridSearchCV.\n",
      "  % (grid_size, self.n_iter, grid_size), UserWarning)\n",
      "C:\\Anaconda3\\lib\\site-packages\\sklearn\\model_selection\\_search.py:271: UserWarning: The total space of parameters 4 is smaller than n_iter=5. Running 4 iterations. For exhaustive searches, use GridSearchCV.\n",
      "  % (grid_size, self.n_iter, grid_size), UserWarning)\n",
      "C:\\Anaconda3\\lib\\site-packages\\sklearn\\model_selection\\_search.py:271: UserWarning: The total space of parameters 3 is smaller than n_iter=5. Running 3 iterations. For exhaustive searches, use GridSearchCV.\n",
      "  % (grid_size, self.n_iter, grid_size), UserWarning)\n",
      "C:\\Anaconda3\\lib\\site-packages\\sklearn\\model_selection\\_search.py:271: UserWarning: The total space of parameters 3 is smaller than n_iter=5. Running 3 iterations. For exhaustive searches, use GridSearchCV.\n",
      "  % (grid_size, self.n_iter, grid_size), UserWarning)\n",
      "C:\\Anaconda3\\lib\\site-packages\\sklearn\\model_selection\\_search.py:271: UserWarning: The total space of parameters 3 is smaller than n_iter=5. Running 3 iterations. For exhaustive searches, use GridSearchCV.\n",
      "  % (grid_size, self.n_iter, grid_size), UserWarning)\n",
      "C:\\Anaconda3\\lib\\site-packages\\sklearn\\model_selection\\_search.py:271: UserWarning: The total space of parameters 3 is smaller than n_iter=5. Running 3 iterations. For exhaustive searches, use GridSearchCV.\n",
      "  % (grid_size, self.n_iter, grid_size), UserWarning)\n",
      "C:\\Anaconda3\\lib\\site-packages\\sklearn\\model_selection\\_search.py:271: UserWarning: The total space of parameters 3 is smaller than n_iter=5. Running 3 iterations. For exhaustive searches, use GridSearchCV.\n",
      "  % (grid_size, self.n_iter, grid_size), UserWarning)\n"
     ]
    },
    {
     "data": {
      "text/plain": [
       "({'fit_time': array([0.03886366, 0.03689981, 0.03793073, 0.06180167, 0.03889489]),\n",
       "  'score_time': array([0.00099778, 0.00099897, 0.00099874, 0.00099659, 0.0009985 ]),\n",
       "  'test_neg_mean_squared_error': array([-80.28205128, -40.33333333, -66.97435897, -54.47364672,\n",
       "         -76.86842105]),\n",
       "  'train_neg_mean_squared_error': array([-0.        , -0.        , -0.22903226, -0.65698925, -0.        ]),\n",
       "  'test_neg_mean_absolute_error': array([-5.97435897, -3.87179487, -5.61538462, -4.59401709, -6.02631579]),\n",
       "  'train_neg_mean_absolute_error': array([-0.        , -0.        , -0.18709677, -0.34193548, -0.        ]),\n",
       "  'test_neg_median_absolute_error': array([-2., -1., -4., -1., -3.]),\n",
       "  'train_neg_median_absolute_error': array([-0., -0., -0., -0., -0.])},\n",
       " {'fit_time': array([0.03889632, 0.03789759, 0.03889346, 0.03988457, 1.1509378 ]),\n",
       "  'score_time': array([0.00099897, 0.00099826, 0.00099945, 0.00099993, 0.00303078]),\n",
       "  'test_neg_mean_absolute_error': array([-4.02564103, -4.34615385, -5.57692308, -4.56410256, -5.19736842]),\n",
       "  'train_neg_mean_absolute_error': array([-0.51397849, -0.25806452, -0.18709677, -0.        , -0.39316239]),\n",
       "  'test_neg_mean_squared_error': array([-41.53846154, -41.98076923, -64.71153846, -59.69230769,\n",
       "         -62.21125731]),\n",
       "  'train_neg_mean_squared_error': array([-1.75376344, -0.8       , -0.22903226, -0.        , -1.11324786]),\n",
       "  'test_neg_median_absolute_error': array([-2.        , -2.        , -4.        , -1.        , -2.16666667]),\n",
       "  'train_neg_median_absolute_error': array([-0., -0., -0., -0., -0.])})"
      ]
     },
     "execution_count": 248,
     "metadata": {},
     "output_type": "execute_result"
    }
   ],
   "source": [
    "scaler=MinMaxScaler()\n",
    "breastC=pd.read_csv(\"breastC.csv\",header=None)\n",
    "df=breastC.values\n",
    "y=df[:,0]\n",
    "scaler.fit(df)\n",
    "df=scaler.transform(df)\n",
    "x=df[:,1:]\n",
    "r_forest(x,y)\n",
    "l_r(x,y)\n",
    "kNeighbors(x,y)\n",
    "svr(x,y)\n",
    "dtr(x,y)"
   ]
  },
  {
   "cell_type": "markdown",
   "metadata": {},
   "source": [
    "# CPU Computer Hardware "
   ]
  },
  {
   "cell_type": "code",
   "execution_count": 250,
   "metadata": {},
   "outputs": [
    {
     "name": "stderr",
     "output_type": "stream",
     "text": [
      "C:\\Anaconda3\\lib\\site-packages\\sklearn\\utils\\validation.py:595: DataConversionWarning: Data with input dtype object was converted to float64 by MinMaxScaler.\n",
      "  warnings.warn(msg, DataConversionWarning)\n",
      "C:\\Anaconda3\\lib\\site-packages\\sklearn\\model_selection\\_search.py:271: UserWarning: The total space of parameters 4 is smaller than n_iter=5. Running 4 iterations. For exhaustive searches, use GridSearchCV.\n",
      "  % (grid_size, self.n_iter, grid_size), UserWarning)\n",
      "C:\\Anaconda3\\lib\\site-packages\\sklearn\\model_selection\\_search.py:271: UserWarning: The total space of parameters 4 is smaller than n_iter=5. Running 4 iterations. For exhaustive searches, use GridSearchCV.\n",
      "  % (grid_size, self.n_iter, grid_size), UserWarning)\n",
      "C:\\Anaconda3\\lib\\site-packages\\sklearn\\model_selection\\_search.py:271: UserWarning: The total space of parameters 4 is smaller than n_iter=5. Running 4 iterations. For exhaustive searches, use GridSearchCV.\n",
      "  % (grid_size, self.n_iter, grid_size), UserWarning)\n",
      "C:\\Anaconda3\\lib\\site-packages\\sklearn\\model_selection\\_search.py:271: UserWarning: The total space of parameters 4 is smaller than n_iter=5. Running 4 iterations. For exhaustive searches, use GridSearchCV.\n",
      "  % (grid_size, self.n_iter, grid_size), UserWarning)\n",
      "C:\\Anaconda3\\lib\\site-packages\\sklearn\\model_selection\\_search.py:271: UserWarning: The total space of parameters 4 is smaller than n_iter=5. Running 4 iterations. For exhaustive searches, use GridSearchCV.\n",
      "  % (grid_size, self.n_iter, grid_size), UserWarning)\n",
      "C:\\Anaconda3\\lib\\site-packages\\sklearn\\model_selection\\_search.py:271: UserWarning: The total space of parameters 3 is smaller than n_iter=5. Running 3 iterations. For exhaustive searches, use GridSearchCV.\n",
      "  % (grid_size, self.n_iter, grid_size), UserWarning)\n",
      "C:\\Anaconda3\\lib\\site-packages\\sklearn\\model_selection\\_search.py:271: UserWarning: The total space of parameters 3 is smaller than n_iter=5. Running 3 iterations. For exhaustive searches, use GridSearchCV.\n",
      "  % (grid_size, self.n_iter, grid_size), UserWarning)\n",
      "C:\\Anaconda3\\lib\\site-packages\\sklearn\\model_selection\\_search.py:271: UserWarning: The total space of parameters 3 is smaller than n_iter=5. Running 3 iterations. For exhaustive searches, use GridSearchCV.\n",
      "  % (grid_size, self.n_iter, grid_size), UserWarning)\n",
      "C:\\Anaconda3\\lib\\site-packages\\sklearn\\model_selection\\_search.py:271: UserWarning: The total space of parameters 3 is smaller than n_iter=5. Running 3 iterations. For exhaustive searches, use GridSearchCV.\n",
      "  % (grid_size, self.n_iter, grid_size), UserWarning)\n",
      "C:\\Anaconda3\\lib\\site-packages\\sklearn\\model_selection\\_search.py:271: UserWarning: The total space of parameters 3 is smaller than n_iter=5. Running 3 iterations. For exhaustive searches, use GridSearchCV.\n",
      "  % (grid_size, self.n_iter, grid_size), UserWarning)\n"
     ]
    },
    {
     "data": {
      "text/plain": [
       "({'fit_time': array([0.01997137, 0.01798511, 0.01894927, 0.01791787, 0.01795435]),\n",
       "  'score_time': array([0.0009644 , 0.00099993, 0.00099921, 0.00199652, 0.00099683]),\n",
       "  'test_neg_mean_squared_error': array([ -7169.23611111,  -3284.11904762,  -2247.5       ,  -2975.46428571,\n",
       "         -31545.34485095]),\n",
       "  'train_neg_mean_squared_error': array([-281.29121756, -123.15668663, -116.24830339, -110.43692615,\n",
       "         -293.81130952]),\n",
       "  'test_neg_mean_absolute_error': array([-48.79761905, -26.97619048, -26.35714286, -42.07142857,\n",
       "         -79.16666667]),\n",
       "  'train_neg_mean_absolute_error': array([-6.70538922, -3.06786427, -2.81516966, -2.68942116, -8.66150794]),\n",
       "  'test_neg_median_absolute_error': array([-21.75, -11.5 , -11.  , -30.5 , -20.  ]),\n",
       "  'train_neg_median_absolute_error': array([-1.5, -0. , -0. , -0. , -2.5])},\n",
       " {'fit_time': array([0.01891327, 0.01798725, 0.01795197, 0.01994228, 0.01891804]),\n",
       "  'score_time': array([0.00099707, 0.0009954 , 0.00099516, 0.00099921, 0.00099754]),\n",
       "  'test_neg_mean_absolute_error': array([-59.16666667, -26.53968254, -24.09920635, -41.67857143,\n",
       "         -78.90650407]),\n",
       "  'train_neg_mean_absolute_error': array([ -1.15449102, -10.13572854,  -5.48582834,  -4.99481038,\n",
       "          -8.66150794]),\n",
       "  'test_neg_mean_squared_error': array([-13758.98809524,  -3115.85978836,  -1736.4239418 ,  -2962.60119048,\n",
       "         -31530.00880759]),\n",
       "  'train_neg_mean_squared_error': array([ -21.69341317, -458.99800399, -166.11656687, -144.38602794,\n",
       "         -293.81130952]),\n",
       "  'test_neg_median_absolute_error': array([-24.  , -10.25, -10.  , -29.5 , -20.  ]),\n",
       "  'train_neg_median_absolute_error': array([-0. , -3. , -1. , -1. , -2.5])})"
      ]
     },
     "execution_count": 250,
     "metadata": {},
     "output_type": "execute_result"
    }
   ],
   "source": [
    "machine=pd.read_csv(\"machine.csv\",header=None)\n",
    "\n",
    "machine_values=machine.values\n",
    "machine_values=machine_values[:,2:9]\n",
    "y=machine_values[:,-1]\n",
    "scaler.fit(machine_values)\n",
    "machine_values=scaler.transform(machine_values)\n",
    "x=machine_values[:,:-1]\n",
    "\n",
    "r_forest(x,y)\n",
    "l_r(x,y)\n",
    "kNeighbors(x,y)\n",
    "svr(x,y)\n",
    "dtr(x,y)"
   ]
  },
  {
   "cell_type": "markdown",
   "metadata": {},
   "source": [
    "# Crime Dataframe"
   ]
  },
  {
   "cell_type": "code",
   "execution_count": 251,
   "metadata": {},
   "outputs": [
    {
     "name": "stderr",
     "output_type": "stream",
     "text": [
      "C:\\Anaconda3\\lib\\site-packages\\sklearn\\model_selection\\_search.py:271: UserWarning: The total space of parameters 4 is smaller than n_iter=5. Running 4 iterations. For exhaustive searches, use GridSearchCV.\n",
      "  % (grid_size, self.n_iter, grid_size), UserWarning)\n",
      "C:\\Anaconda3\\lib\\site-packages\\sklearn\\model_selection\\_search.py:271: UserWarning: The total space of parameters 4 is smaller than n_iter=5. Running 4 iterations. For exhaustive searches, use GridSearchCV.\n",
      "  % (grid_size, self.n_iter, grid_size), UserWarning)\n",
      "C:\\Anaconda3\\lib\\site-packages\\sklearn\\model_selection\\_search.py:271: UserWarning: The total space of parameters 4 is smaller than n_iter=5. Running 4 iterations. For exhaustive searches, use GridSearchCV.\n",
      "  % (grid_size, self.n_iter, grid_size), UserWarning)\n",
      "C:\\Anaconda3\\lib\\site-packages\\sklearn\\model_selection\\_search.py:271: UserWarning: The total space of parameters 4 is smaller than n_iter=5. Running 4 iterations. For exhaustive searches, use GridSearchCV.\n",
      "  % (grid_size, self.n_iter, grid_size), UserWarning)\n",
      "C:\\Anaconda3\\lib\\site-packages\\sklearn\\model_selection\\_search.py:271: UserWarning: The total space of parameters 4 is smaller than n_iter=5. Running 4 iterations. For exhaustive searches, use GridSearchCV.\n",
      "  % (grid_size, self.n_iter, grid_size), UserWarning)\n",
      "C:\\Anaconda3\\lib\\site-packages\\sklearn\\model_selection\\_search.py:271: UserWarning: The total space of parameters 3 is smaller than n_iter=5. Running 3 iterations. For exhaustive searches, use GridSearchCV.\n",
      "  % (grid_size, self.n_iter, grid_size), UserWarning)\n",
      "C:\\Anaconda3\\lib\\site-packages\\sklearn\\model_selection\\_search.py:271: UserWarning: The total space of parameters 3 is smaller than n_iter=5. Running 3 iterations. For exhaustive searches, use GridSearchCV.\n",
      "  % (grid_size, self.n_iter, grid_size), UserWarning)\n",
      "C:\\Anaconda3\\lib\\site-packages\\sklearn\\model_selection\\_search.py:271: UserWarning: The total space of parameters 3 is smaller than n_iter=5. Running 3 iterations. For exhaustive searches, use GridSearchCV.\n",
      "  % (grid_size, self.n_iter, grid_size), UserWarning)\n",
      "C:\\Anaconda3\\lib\\site-packages\\sklearn\\model_selection\\_search.py:271: UserWarning: The total space of parameters 3 is smaller than n_iter=5. Running 3 iterations. For exhaustive searches, use GridSearchCV.\n",
      "  % (grid_size, self.n_iter, grid_size), UserWarning)\n",
      "C:\\Anaconda3\\lib\\site-packages\\sklearn\\model_selection\\_search.py:271: UserWarning: The total space of parameters 3 is smaller than n_iter=5. Running 3 iterations. For exhaustive searches, use GridSearchCV.\n",
      "  % (grid_size, self.n_iter, grid_size), UserWarning)\n"
     ]
    },
    {
     "data": {
      "text/plain": [
       "({'fit_time': array([1.08932781, 1.04996562, 1.01183677, 1.01382446, 0.99587202]),\n",
       "  'score_time': array([0.00199556, 0.00199676, 0.00099921, 0.00199294, 0.00199628]),\n",
       "  'test_neg_mean_squared_error': array([-0.04312322, -0.04069436, -0.03715559, -0.0353401 , -0.04073266]),\n",
       "  'train_neg_mean_squared_error': array([-4.81630094e-04, -3.02382445e-04, -7.36217346e-04, -7.42599947e-36,\n",
       "         -9.86496071e-36]),\n",
       "  'test_neg_mean_absolute_error': array([-0.13660401, -0.13513784, -0.12821637, -0.12328321, -0.13135678]),\n",
       "  'train_neg_mean_absolute_error': array([-1.06750261e-02, -5.96865204e-03, -1.17784744e-02, -3.91536333e-19,\n",
       "         -5.34764380e-19]),\n",
       "  'test_neg_median_absolute_error': array([-0.07333333, -0.08      , -0.07333333, -0.07      , -0.08      ]),\n",
       "  'train_neg_median_absolute_error': array([-0.005, -0.   , -0.005, -0.   , -0.   ])},\n",
       " {'fit_time': array([1.02230334, 0.9733479 , 1.0120523 , 1.04923248, 1.02987909]),\n",
       "  'score_time': array([0.00099897, 0.00099683, 0.00199962, 0.00199509, 0.00099874]),\n",
       "  'test_neg_mean_absolute_error': array([-0.1372264 , -0.13449875, -0.12734336, -0.12288221, -0.12702261]),\n",
       "  'train_neg_mean_absolute_error': array([-0.01065622, -0.0113605 , -0.00584326, -0.0065768 , -0.0056015 ]),\n",
       "  'test_neg_mean_squared_error': array([-0.04247989, -0.04090611, -0.03722306, -0.0354881 , -0.03735207]),\n",
       "  'train_neg_mean_squared_error': array([-0.00048152, -0.00070961, -0.00030326, -0.00048166, -0.00020658]),\n",
       "  'test_neg_median_absolute_error': array([-0.08 , -0.08 , -0.08 , -0.07 , -0.075]),\n",
       "  'train_neg_median_absolute_error': array([-0.005, -0.005, -0.   , -0.   , -0.   ])})"
      ]
     },
     "execution_count": 251,
     "metadata": {},
     "output_type": "execute_result"
    }
   ],
   "source": [
    "\n",
    "communities=pd.read_csv(\"communities.csv\",header=None)\n",
    "coloana=[0,1,2,3,4]\n",
    "communities.drop(communities.columns[coloana],axis=1,inplace=True)\n",
    "communities = communities[communities != '?']\n",
    "communities.dropna(axis=1,inplace=True)\n",
    "com=communities.values\n",
    "y=com[:,-1]\n",
    "scaler.fit(com)\n",
    "com=scaler.transform(com)\n",
    "x=com[:,:-1]\n",
    "r_forest(x,y)\n",
    "l_r(x,y)\n",
    "kNeighbors(x,y)\n",
    "svr(x,y)\n",
    "dtr(x,y)"
   ]
  },
  {
   "cell_type": "markdown",
   "metadata": {},
   "source": [
    "# Boston Housing"
   ]
  },
  {
   "cell_type": "code",
   "execution_count": 252,
   "metadata": {},
   "outputs": [
    {
     "name": "stderr",
     "output_type": "stream",
     "text": [
      "C:\\Anaconda3\\lib\\site-packages\\sklearn\\model_selection\\_search.py:271: UserWarning: The total space of parameters 4 is smaller than n_iter=5. Running 4 iterations. For exhaustive searches, use GridSearchCV.\n",
      "  % (grid_size, self.n_iter, grid_size), UserWarning)\n",
      "C:\\Anaconda3\\lib\\site-packages\\sklearn\\model_selection\\_search.py:271: UserWarning: The total space of parameters 4 is smaller than n_iter=5. Running 4 iterations. For exhaustive searches, use GridSearchCV.\n",
      "  % (grid_size, self.n_iter, grid_size), UserWarning)\n",
      "C:\\Anaconda3\\lib\\site-packages\\sklearn\\model_selection\\_search.py:271: UserWarning: The total space of parameters 4 is smaller than n_iter=5. Running 4 iterations. For exhaustive searches, use GridSearchCV.\n",
      "  % (grid_size, self.n_iter, grid_size), UserWarning)\n",
      "C:\\Anaconda3\\lib\\site-packages\\sklearn\\model_selection\\_search.py:271: UserWarning: The total space of parameters 4 is smaller than n_iter=5. Running 4 iterations. For exhaustive searches, use GridSearchCV.\n",
      "  % (grid_size, self.n_iter, grid_size), UserWarning)\n",
      "C:\\Anaconda3\\lib\\site-packages\\sklearn\\model_selection\\_search.py:271: UserWarning: The total space of parameters 4 is smaller than n_iter=5. Running 4 iterations. For exhaustive searches, use GridSearchCV.\n",
      "  % (grid_size, self.n_iter, grid_size), UserWarning)\n",
      "C:\\Anaconda3\\lib\\site-packages\\sklearn\\model_selection\\_search.py:271: UserWarning: The total space of parameters 3 is smaller than n_iter=5. Running 3 iterations. For exhaustive searches, use GridSearchCV.\n",
      "  % (grid_size, self.n_iter, grid_size), UserWarning)\n",
      "C:\\Anaconda3\\lib\\site-packages\\sklearn\\model_selection\\_search.py:271: UserWarning: The total space of parameters 3 is smaller than n_iter=5. Running 3 iterations. For exhaustive searches, use GridSearchCV.\n",
      "  % (grid_size, self.n_iter, grid_size), UserWarning)\n",
      "C:\\Anaconda3\\lib\\site-packages\\sklearn\\model_selection\\_search.py:271: UserWarning: The total space of parameters 3 is smaller than n_iter=5. Running 3 iterations. For exhaustive searches, use GridSearchCV.\n",
      "  % (grid_size, self.n_iter, grid_size), UserWarning)\n",
      "C:\\Anaconda3\\lib\\site-packages\\sklearn\\model_selection\\_search.py:271: UserWarning: The total space of parameters 3 is smaller than n_iter=5. Running 3 iterations. For exhaustive searches, use GridSearchCV.\n",
      "  % (grid_size, self.n_iter, grid_size), UserWarning)\n",
      "C:\\Anaconda3\\lib\\site-packages\\sklearn\\model_selection\\_search.py:271: UserWarning: The total space of parameters 3 is smaller than n_iter=5. Running 3 iterations. For exhaustive searches, use GridSearchCV.\n",
      "  % (grid_size, self.n_iter, grid_size), UserWarning)\n"
     ]
    },
    {
     "data": {
      "text/plain": [
       "({'fit_time': array([0.03889656, 0.04388189, 0.05385447, 0.04085159, 0.0409236 ]),\n",
       "  'score_time': array([0.00199509, 0.00199604, 0.0009985 , 0.00099874, 0.00096536]),\n",
       "  'test_neg_mean_squared_error': array([-11.96352941, -53.88336634, -28.4230253 , -51.36963696,\n",
       "         -75.49544554]),\n",
       "  'train_neg_mean_squared_error': array([-0.        , -0.        , -0.37389712, -0.55255144, -0.        ]),\n",
       "  'test_neg_mean_absolute_error': array([-2.7372549 , -4.45148515, -3.91551155, -4.24257426, -5.07722772]),\n",
       "  'train_neg_mean_absolute_error': array([-0.        , -0.        , -0.37950617, -0.40329218, -0.        ]),\n",
       "  'test_neg_median_absolute_error': array([-2.2       , -2.5       , -2.96666667, -2.55      , -3.2       ]),\n",
       "  'train_neg_median_absolute_error': array([-0. , -0. , -0.2, -0.2, -0. ])},\n",
       " {'fit_time': array([0.0398922 , 0.04089212, 0.0458777 , 0.04107237, 0.04487848]),\n",
       "  'score_time': array([0.0009985 , 0.00103426, 0.00099492, 0.00099802, 0.00099945]),\n",
       "  'test_neg_mean_absolute_error': array([-2.6754902 , -4.10247525, -3.6970297 , -4.27475248, -4.59768977]),\n",
       "  'train_neg_mean_absolute_error': array([-0.        , -0.20074074, -0.        , -0.19333333, -0.37358025]),\n",
       "  'test_neg_mean_squared_error': array([-11.28186275, -39.37814356, -26.82158416, -51.22363861,\n",
       "         -58.53627613]),\n",
       "  'train_neg_mean_squared_error': array([-0.        , -0.37166667, -0.        , -0.18848148, -0.54242387]),\n",
       "  'test_neg_median_absolute_error': array([-2.2, -2.3, -2.8, -2.8, -2.9]),\n",
       "  'train_neg_median_absolute_error': array([-0.  , -0.05, -0.  , -0.05, -0.15])})"
      ]
     },
     "execution_count": 252,
     "metadata": {},
     "output_type": "execute_result"
    }
   ],
   "source": [
    "housing=pd.read_csv(\"housing.csv\",delimiter='\\s+',header=None)\n",
    "housing.head()\n",
    "df=housing.values\n",
    "y=df[:,-1]\n",
    "scaler.fit(df)\n",
    "df=scaler.transform(df)\n",
    "x=df[:,:-1]\n",
    "r_forest(x,y)\n",
    "l_r(x,y)\n",
    "kNeighbors(x,y)\n",
    "svr(x,y)\n",
    "dtr(x,y)"
   ]
  },
  {
   "cell_type": "code",
   "execution_count": null,
   "metadata": {},
   "outputs": [],
   "source": []
  }
 ],
 "metadata": {
  "kernelspec": {
   "display_name": "Python 3",
   "language": "python",
   "name": "python3"
  },
  "language_info": {
   "codemirror_mode": {
    "name": "ipython",
    "version": 3
   },
   "file_extension": ".py",
   "mimetype": "text/x-python",
   "name": "python",
   "nbconvert_exporter": "python",
   "pygments_lexer": "ipython3",
   "version": "3.7.1"
  }
 },
 "nbformat": 4,
 "nbformat_minor": 2
}
